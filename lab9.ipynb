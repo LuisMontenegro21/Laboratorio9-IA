{
 "cells": [
  {
   "cell_type": "markdown",
   "metadata": {},
   "source": [
    "# LAB 9 : Algoritmo Forward Backward en HMM"
   ]
  },
  {
   "cell_type": "code",
   "execution_count": 21,
   "metadata": {},
   "outputs": [
    {
     "name": "stdout",
     "output_type": "stream",
     "text": [
      "Observations : ['rainy', 'sunny', 'sunny', 'rainy', 'rainy', 'rainy', 'sunny', 'rainy', 'sunny', 'sunny', 'rainy', 'rainy', 'sunny', 'sunny', 'sunny', 'rainy', 'sunny', 'sunny', 'sunny', 'rainy']\n",
      "initial probability : {'sunny': 0.5746194754024322, 'rainy': 0.4253805245975678}\n",
      "transition probability : {'sunny': {'sunny': 0.7602335406930292, 'rainy': 0.23976645930697082}, 'rainy': {'sunny': 0.36371329256453566, 'rainy': 0.6362867074354643}}\n",
      "emission probability : {'sunny': {'sunny': 0.10679825082841488, 'rainy': 0.8932017491715851}, 'rainy': {'sunny': 0.21001422905913314, 'rainy': 0.7899857709408669}}\n"
     ]
    }
   ],
   "source": [
    "# definir las variables a utilizar\n",
    "import random\n",
    "\n",
    "# posibles estados\n",
    "states = ['sunny', 'rainy']\n",
    "\n",
    "# observaciones previas, iniciamos con unas 20\n",
    "observations = []\n",
    "for _ in range(0,20):\n",
    "    observations.append(random.choice(states))\n",
    "print(f\"Observations : {observations}\")\n",
    "\n",
    "# probabilidades iniciales\n",
    "sunny_prob = random.uniform(0,1)\n",
    "rainy_prob = 1 - sunny_prob\n",
    "initial_prob = {'sunny':sunny_prob , 'rainy': rainy_prob}\n",
    "print(f\"initial probability : {initial_prob}\")\n",
    "\n",
    "# probabilidades de transiciones\n",
    "sunny_first = random.uniform(0,1)\n",
    "rainy_first = random.uniform(0,1)\n",
    "sunny_second = 1 - rainy_first\n",
    "rainy_second = 1 - sunny_first\n",
    "sunny_transition = {'sunny' : sunny_first, 'rainy' : rainy_second}\n",
    "rainy_transition = {'sunny' : sunny_second, 'rainy' : rainy_first}\n",
    "transition_prob = {'sunny': sunny_transition, 'rainy': rainy_transition}\n",
    "print(f\"transition probability : {transition_prob}\")\n",
    "\n",
    "# probabilidades de emisiones\n",
    "# se actualizan las variables anteriores \n",
    "sunny_first = random.uniform(0,1)\n",
    "rainy_first = random.uniform(0,1)\n",
    "sunny_second = 1 - rainy_first\n",
    "rainy_second = 1 - sunny_first\n",
    "sunny_transition = {'sunny' : sunny_first, 'rainy' : rainy_second}\n",
    "rainy_transition = {'sunny' : sunny_second, 'rainy' : rainy_first}\n",
    "emission_prob = {'sunny': sunny_transition, 'rainy': rainy_transition}\n",
    "print(f\"emission probability : {emission_prob}\")"
   ]
  },
  {
   "cell_type": "markdown",
   "metadata": {},
   "source": [
    "## Creacion del Forward Backward y HMM"
   ]
  },
  {
   "cell_type": "code",
   "execution_count": 41,
   "metadata": {},
   "outputs": [
    {
     "name": "stdout",
     "output_type": "stream",
     "text": [
      "Observations with HMM : ['sunny', 'rainy', 'sunny', 'rainy', 'rainy', 'rainy', 'rainy', 'rainy', 'rainy', 'sunny']\n",
      "forward : [{'sunny': 0.5132511205375111, 'rainy': 0.33604456166744}, {'sunny': 0.05472498197539796, 'rainy': 0.07074982273730579}, {'sunny': 0.0071914116367736355, 'rainy': 0.012209888508804287}, {'sunny': 0.008849888557849527, 'rainy': 0.007499531679759306}, {'sunny': 0.008445813367266873, 'rainy': 0.00544597133233199}, {'sunny': 0.007504290557226647, 'rainy': 0.004337197207858301}, {'sunny': 0.0007777592930814261, 'rainy': 0.0009574502725237943}, {'sunny': 0.0008391774169927755, 'rainy': 0.0006285865219632537}, {'sunny': 9.255094685961239e-05, 'rainy': 0.00012625380179705296}, {'sunny': 1.2418556138852359e-05, 'rainy': 2.1531546846258096e-05}, {'sunny': 1.5427659916945924e-05, 'rainy': 1.3175217015029082e-05}, {'sunny': 1.4756252115688753e-05, 'rainy': 9.544806250794045e-06}, {'sunny': 1.5688418160052137e-06, 'rainy': 2.0185071691983716e-06}, {'sunny': 2.0578357492201847e-07, 'rainy': 3.4872966231549623e-07}, {'sunny': 3.025393552853592e-08, 'rainy': 5.696258940694864e-08}, {'sunny': 3.904909006531969e-08, 'rainy': 3.4363130853839714e-08}, {'sunny': 4.505258095486662e-09, 'rainy': 6.558212082432223e-09}, {'sunny': 6.205359881586541e-10, 'rainy': 1.1032284672816297e-09}, {'sunny': 9.323606160476169e-11, 'rainy': 1.7867030382668132e-10}, {'sunny': 1.2135570037207215e-10, 'rainy': 1.0746999584299147e-10}]\n",
      "Backward : [{'sunny': 2.29305146272608e-10, 'rainy': 3.3071379698628155e-10}, {'sunny': 1.5729257849150874e-09, 'rainy': 2.0176355991303047e-09}, {'sunny': 1.2210127219704134e-08, 'rainy': 1.1549462154311408e-08}, {'sunny': 1.4117321023278325e-08, 'rainy': 1.3852728791592827e-08}, {'sunny': 1.5984422030169125e-08, 'rainy': 1.7228194061104285e-08}, {'sunny': 1.7053641439486234e-08, 'rainy': 2.325239341473193e-08}, {'sunny': 1.2458445663318957e-07, 'rainy': 1.3779198886992002e-07}, {'sunny': 1.3053957062301844e-07, 'rainy': 1.897588197592089e-07}, {'sunny': 8.870097033772173e-07, 'rainy': 1.1621995235415028e-06}, {'sunny': 6.747384830308531e-06, 'rainy': 6.735833702288846e-06}, {'sunny': 7.561975255594838e-06, 'rainy': 8.513113183899896e-06}, {'sunny': 7.82224681957249e-06, 'rainy': 1.1880665469230842e-05}, {'sunny': 5.026502365261996e-05, 'rainy': 7.429640454826846e-05}, {'sunny': 0.00033459174739213063, 'rainy': 0.00045872842945197766}, {'sunny': 0.002430088658927557, 'rainy': 0.0027264552439797956}, {'sunny': 0.002520016070265299, 'rainy': 0.00379538646452082}, {'sunny': 0.016375077340708952, 'rainy': 0.023642380653861216}, {'sunny': 0.11218077092593595, 'rainy': 0.1443159738874783}, {'sunny': 0.8684540195273005, 'rainy': 0.8275267942284308}, {'sunny': 1, 'rainy': 1}]\n"
     ]
    }
   ],
   "source": [
    "class HMM:\n",
    "    def __init__(self, states=None, observations=None, initial_prob=None, transition_prob=None, emission_prob=None):\n",
    "        self.states = states\n",
    "        self.observations = observations\n",
    "        self.initial_prob = initial_prob\n",
    "        self.transition_prob = transition_prob\n",
    "        self.emission_prob = emission_prob\n",
    "    \n",
    "\n",
    "    def forward(self, observations):\n",
    "        alpha = [{}]\n",
    "        # Base case for the Forward step\n",
    "        for state in self.states:\n",
    "            alpha[0][state] = self.initial_prob[state] * self.emission_prob[state][observations[0]]\n",
    "\n",
    "        # Recursive case for the Forward step\n",
    "        for t in range(1, len(observations)):\n",
    "            alpha.append({})\n",
    "            for current_state in self.states:\n",
    "                alpha[t][current_state] = sum(\n",
    "                    alpha[t-1][previous_state] * self.transition_prob[previous_state][current_state] *\n",
    "                    self.emission_prob[current_state][observations[t]] for previous_state in self.states\n",
    "                )\n",
    "        return alpha\n",
    "\n",
    "    def backward(self, observations):\n",
    "        beta = [{} for _ in range(len(observations))]\n",
    "        # Base case for the Backward step\n",
    "        for state in self.states:\n",
    "            beta[len(observations)-1][state] = 1\n",
    "\n",
    "        # Recursive case for the Backward step\n",
    "        for t in range(len(self.observations) - 2, -1, -1):\n",
    "            for state in self.states:\n",
    "                beta[t][state] = sum(\n",
    "                    beta[t+1][future_state] * self.transition_prob[state][future_state] *\n",
    "                    self.emission_prob[future_state][observations[t+1]] for future_state in self.states\n",
    "                )\n",
    "        return beta\n",
    "\n",
    "    def generate_sequence(self, length=10):\n",
    "        # Start with an initial state based on initial probabilities\n",
    "        states_sequence = [random.choices(self.states, weights=self.initial_prob.values())[0]]\n",
    "        observations_sequence = []\n",
    "\n",
    "        # Generate the states sequence\n",
    "        for i in range(1, length):\n",
    "            # Get the last state's transition probabilities\n",
    "            last_state = states_sequence[-1]\n",
    "            current_state = random.choices(\n",
    "                self.states,\n",
    "                weights=[self.transition_prob[last_state][next_state] for next_state in self.states]\n",
    "            )[0]\n",
    "            states_sequence.append(current_state)\n",
    "\n",
    "        # Generate the observations sequence based on states sequence\n",
    "        for state in states_sequence:\n",
    "            observation = random.choices(\n",
    "                self.observations,\n",
    "                weights=[self.emission_prob[state][obs] for obs in self.observations]\n",
    "            )[0]\n",
    "            observations_sequence.append(observation)\n",
    "\n",
    "        return observations_sequence\n",
    "\n",
    "    def compute_state_probabilities(self):\n",
    "        pass\n",
    "\n",
    "\n",
    "hmm = HMM(states, observations, initial_prob, transition_prob, emission_prob)\n",
    "observations_hmm = hmm.generate_sequence()\n",
    "print(f\"Observations with HMM : {observations_hmm}\")\n",
    "\n",
    "forward = hmm.forward(observations)\n",
    "print(f\"forward : {forward}\")\n",
    "\n",
    "backward = hmm.backward(observations)\n",
    "print(f\"Backward : {backward}\")\n",
    "\n"
   ]
  }
 ],
 "metadata": {
  "kernelspec": {
   "display_name": "Python 3",
   "language": "python",
   "name": "python3"
  },
  "language_info": {
   "codemirror_mode": {
    "name": "ipython",
    "version": 3
   },
   "file_extension": ".py",
   "mimetype": "text/x-python",
   "name": "python",
   "nbconvert_exporter": "python",
   "pygments_lexer": "ipython3",
   "version": "3.11.5"
  }
 },
 "nbformat": 4,
 "nbformat_minor": 2
}
